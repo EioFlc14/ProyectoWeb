{
 "cells": [
  {
   "cell_type": "markdown",
   "metadata": {},
   "source": [
    "# Proyecto de Aplicaciones Web 2020 A - Román Bolívar, Sanango Edison\n",
    "\n",
    "\n"
   ]
  },
  {
   "cell_type": "markdown",
   "metadata": {},
   "source": [
    "## Descripción De la Aplicación\n",
    "\n",
    "Este proyecto se basará en una aplicación enfocada en la comercialización de productos orgánicos dentro de Ecuador. \n",
    "\n",
    "### Consideraciones\n",
    "\n",
    "Se tuvo que realizar algunas variantes al método de Scrum Poker ya que, al ser únicamente dos integrantes del grupo no se pudo obtener una mayoría de votos. Por ende, después de exponer los puntos de cada uno se decidió su valor final el cual se visualiza en la columna **Puntaje Final**.\n",
    "\n",
    "\n",
    " N° | Historia de Usuario | Puntaje Inicial Bolívar | Puntaje Inicial Edison | Puntaje Final | \n",
    " ----------------------- | ------------------- | --------------- | -------------- | ------------- |\n",
    " 1 | Como cliente quiero acceder a la aplicación web para realizar mis actividades.  | 8 | 13 | 13  \n",
    " 2 | Como cliente quiero registrarme en la aplicación para hacer uso de ella. | 8 | 13 | 8  \n",
    " 3 | Como cliente quiero buscar productos por su nombre, costo o productor para seleccionar el más conveniente a mis necesidades. | 20 | 20 | 20  \n",
    " 4 | Como cliente quiero realizar una orden de un producto sin que esté en mi carrito para adquirirlo rápidamente |  13 | 13 | 13  \n",
    " 5 | Como cliente quiero añadir productos al carrito para ordenarlos después. | 8 | 13 | 13 \n",
    " 6 | Como cliente quiero realizar una orden de diferentes productos que están en mi carrito para adquirir productos orgánicos a precios económicos. | 40 | 40 | 40  \n",
    " 7 | Como cliente quiero eliminar productos que añadí al carrito para no ordenarlos posteriormente.| 8 | 13 | 13  \n",
    " 8 | Como cliente quiero modificar la cantidad de ítems del mismo producto de mi carrito para evitar borrarlo y añadirlo nuevamente. | 13 | 13 | 13  \n",
    " 9 | Como cliente quiero tener por separado las órdenes realizadas en: pendientes y cumplidas para llevar un control de mis órdenes. | 20 | 20 | 20  \n",
    " 10 | Como cliente quiero actualizar mis datos como nombre de usuario y mi contraseña para mantener segura mi cuenta. | 8 | 13 | 8  \n",
    " 11 | Como cliente quiero ver la información de los productores para contactarme con ellos.  | 8 | 13 | 13  \n",
    " 12 | Como cliente quiero modificar mi ubicación geográfica para encontrar productores cercanos. | 20 | 40 | 40  \n",
    " 13 | Como cliente quiero cerrar la sesión para mantener segura mi cuenta. | 8 | 13 | 8  \n",
    " 14 | Como productor quiero acceder a la aplicación web para realizar mis actividades. | 8 | 13 | 13  \n",
    " 15 | Como productor quiero registrarme en la aplicación para hacer uso de ella. | 8 | 13 | 8  \n",
    " 16 | Como productor quiero buscar mis productos para visualizarlos en cualquier momento. | 8 | 13 | 13  \n",
    " 17 | Como productor quiero agregar un nuevo producto para ofrecerlo a los clientes. | 13 | 20 | 13 \n",
    " 18 | Como productor quiero modificar la información de un producto para actualizar sus detalles. | 8 | 20 | 13 \n",
    " 19 | Como productor quiero dar de baja un producto añadido que añadí anteriormente para actualizar los productos que oferto.  | 8 | 20 | 13 \n",
    " 20 | Como productor quiero agregar imágenes del producto que oferto para que el cliente conozca el producto. | 20 | 20 | 20 \n",
    " 21 | Como productor quiero tener por separado las órdenes que me han realizado en: pendientes y cumplidas para llevar un control de mis órdenes. | 20 | 20 | 20  \n",
    " 22 | Como productor quiero actualizar mis datos como nombre de usuario y mi contraseña para mantener segura mi cuenta. | 8 | 13 | 8  \n",
    " 23 | Como productor quiero ver la información de los clientes que han ordenado mis productos para contactarme con ellos.  | 8 | 20 | 20 \n",
    " 24 | Como productor quiero establecer mi ubicación geográfica para que los clientes vean mi dirección.|20 | 40 | 40 \n",
    " 25 | Como productor quiero cerrar la sesión para mantener segura mi cuenta. | 8 | 13 | 8 "
   ]
  },
  {
   "cell_type": "code",
   "execution_count": null,
   "metadata": {},
   "outputs": [],
   "source": []
  }
 ],
 "metadata": {
  "kernelspec": {
   "display_name": "Python 3",
   "language": "python",
   "name": "python3"
  },
  "language_info": {
   "codemirror_mode": {
    "name": "ipython",
    "version": 3
   },
   "file_extension": ".py",
   "mimetype": "text/x-python",
   "name": "python",
   "nbconvert_exporter": "python",
   "pygments_lexer": "ipython3",
   "version": "3.7.6"
  }
 },
 "nbformat": 4,
 "nbformat_minor": 4
}
